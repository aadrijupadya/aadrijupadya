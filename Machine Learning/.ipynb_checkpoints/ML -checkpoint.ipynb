{
 "cells": [
  {
   "cell_type": "markdown",
   "id": "cca21f45",
   "metadata": {},
   "source": [
    "Reinforcement Learning\n",
    "- model learns how to behave after performing actions and seeing results, adjusting itself, and then trying again"
   ]
  },
  {
   "cell_type": "markdown",
   "id": "81a11fdf",
   "metadata": {},
   "source": [
    "Decision Trees are tree shaped algorithms used to determine course of action, each brance of tree represents possible occurence or reaction\n",
    "- If decision n returns a and b, check case a, which returns a and b, and so on\n",
    "- Optimized when information gain is maximized\n",
    "- Formula for entropy:\n",
    "    - $$I(p,n) =  -\\frac{p}{p + n} * log_2(\\frac{p}{p + n}) - \\frac{n}{p + n} * log_2(\\frac{n}{p + n})$$\n",
    "- In this case, p and n represent frequency of two outcomes p and n \n",
    "- Information Gain = Entropy(original dataset) - Entropy(original dataset that is now optimized)"
   ]
  },
  {
   "cell_type": "markdown",
   "id": "f8365362",
   "metadata": {},
   "source": [
    "Support Vector Machines\n",
    "- algorithm creates a separation line which divides two classes of data in best possible manner\n",
    "- when more than 2 parameters, it become snecessary to utilize 3 dimensional space in order to classify this data"
   ]
  },
  {
   "cell_type": "code",
   "execution_count": 4,
   "id": "88ff8e2f",
   "metadata": {},
   "outputs": [],
   "source": [
    "import numpy as np\n",
    "import pandas as pd\n"
   ]
  },
  {
   "cell_type": "code",
   "execution_count": null,
   "id": "fa5a38ee",
   "metadata": {},
   "outputs": [],
   "source": []
  }
 ],
 "metadata": {
  "kernelspec": {
   "display_name": "Python 3",
   "language": "python",
   "name": "python3"
  },
  "language_info": {
   "codemirror_mode": {
    "name": "ipython",
    "version": 3
   },
   "file_extension": ".py",
   "mimetype": "text/x-python",
   "name": "python",
   "nbconvert_exporter": "python",
   "pygments_lexer": "ipython3",
   "version": "3.8.8"
  }
 },
 "nbformat": 4,
 "nbformat_minor": 5
}
