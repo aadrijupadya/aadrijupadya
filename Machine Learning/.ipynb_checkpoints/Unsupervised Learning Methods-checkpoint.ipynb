{
 "cells": [
  {
   "cell_type": "markdown",
   "id": "d7280d6b",
   "metadata": {},
   "source": [
    "Unsupervised Learning\n",
    "- Data is not structured or given labels\n",
    "- Difficult to evaluate strength of such an algorithm\n",
    "\n"
   ]
  },
  {
   "cell_type": "markdown",
   "id": "d794e67b",
   "metadata": {},
   "source": [
    "**Principal Component Analysis**\n",
    "- Method for dimensionality reduction\n",
    "- Highly correlated features removed because considered orthogonal features\n",
    "- Based on the assumption that data lies in subspace with smaller dimensions to cutoff excessive space\n",
    "- List axes in order of decreasing dispersion and take top -k of them\n",
    "- Compute"
   ]
  }
 ],
 "metadata": {
  "kernelspec": {
   "display_name": "Python 3",
   "language": "python",
   "name": "python3"
  },
  "language_info": {
   "codemirror_mode": {
    "name": "ipython",
    "version": 3
   },
   "file_extension": ".py",
   "mimetype": "text/x-python",
   "name": "python",
   "nbconvert_exporter": "python",
   "pygments_lexer": "ipython3",
   "version": "3.8.8"
  }
 },
 "nbformat": 4,
 "nbformat_minor": 5
}
